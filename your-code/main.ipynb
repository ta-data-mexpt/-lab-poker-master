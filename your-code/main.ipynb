{
 "cells": [
  {
   "cell_type": "code",
   "execution_count": 1,
   "metadata": {},
   "outputs": [],
   "source": [
    "from scipy.special import comb"
   ]
  },
  {
   "cell_type": "markdown",
   "metadata": {},
   "source": [
    "# Game of the Chance\n",
    "\n",
    "In the lesson we have shown you how to use Python to calculate the probabilities and odds of the *royal flush* and *straight flush* in poker. In this lab you will calculate the probabilities of all other hands. Please be reminded that in the lesson there is a Poker Hands Probability Table you can refer to when you write Python code to calculate the probabilities."
   ]
  },
  {
   "cell_type": "markdown",
   "metadata": {},
   "source": [
    "## Challenge 1: *four of a kind*, *full house*, *flush*, and *straight*\n",
    "\n",
    "In the cell below, calculate the probability of getting each of the following hands:\n",
    "\n",
    "* *four of a kind*\n",
    "* *full house*\n",
    "* *flush*\n",
    "* *straight*\n",
    "\n",
    "Assign your results to these variables: `four_of_a_kind`, `full_house`, `flush`, and `straight`. Then print them out to check if they are consistent with the probabilities as shown in the table."
   ]
  },
  {
   "cell_type": "code",
   "execution_count": 8,
   "metadata": {},
   "outputs": [],
   "source": [
    "# your code here\n",
    "four_of_a_kind = -1\n",
    "full_house = -1\n",
    "flush = -1\n",
    "straight = -1\n",
    "\n",
    "num_o_hand =  comb(52,5)"
   ]
  },
  {
   "cell_type": "code",
   "execution_count": 9,
   "metadata": {},
   "outputs": [
    {
     "data": {
      "text/plain": [
       "0.00024009603841536616"
      ]
     },
     "execution_count": 9,
     "metadata": {},
     "output_type": "execute_result"
    }
   ],
   "source": [
    "# nos deben dar cuatro cartas de alguno numero o mono ((comb(13,1)))\n",
    "# la quinta carta puede ser de algun numero o mono restante ((com(12,1)))\n",
    "# y de Cierto palo en especifico (comb(4,1))\n",
    "\n",
    "four_of_a_kind = (comb(13,1)* comb(4,1) * comb(12,1)) / num_o_hand\n",
    "four_of_a_kind "
   ]
  },
  {
   "cell_type": "code",
   "execution_count": 17,
   "metadata": {},
   "outputs": [
    {
     "data": {
      "text/plain": [
       "0.0014405762304921968"
      ]
     },
     "execution_count": 17,
     "metadata": {},
     "output_type": "execute_result"
    }
   ],
   "source": [
    "# tercia es una combinacion de tres palos (comb(4,3))\n",
    "# tercia debe ser de mismo numero o mono (comb(13,1))\n",
    "# Par es una combinacion de dos palos (comb(4,2))\n",
    "# Par debe ser de un mismo numero o mono (comb(12,1))\n",
    "\n",
    "full_house = (comb(13,1) * comb(4,2) * comb(12,1) * comb(4,3))/ num_o_hand\n",
    "full_house"
   ]
  },
  {
   "cell_type": "code",
   "execution_count": 16,
   "metadata": {},
   "outputs": [
    {
     "data": {
      "text/plain": [
       "0.001963862468064149"
      ]
     },
     "execution_count": 16,
     "metadata": {},
     "output_type": "execute_result"
    }
   ],
   "source": [
    "# Flush = todas las cartas de un palo del mismo color\n",
    "# Cartas de un palo (comb(4,1))\n",
    "# Pueden salir cinco numeros o monos (comb(13,5))\n",
    "\n",
    "flush_incomplete = (comb(13,5) * comb(4,1)) / num_o_hand\n",
    "\n",
    "# Es momento de restarle el royal fluch y straight flush\n",
    "# 2,3,4,5,6,7,8,9,10,J,Q,K,Ace\n",
    "\n",
    "royal_flush = 4/ num_o_hand\n",
    "\n",
    "# Para el straight flush\n",
    "# se debe proporcionar una carta inicial que permita un straight (comb(10,1))  10,9,8,7,6\n",
    "# Se debe proporcionar algun palo (comb(4,1))\n",
    "\n",
    "straight_flush = comb(10,1) * comb(4,1) / num_o_hand\n",
    "\n",
    "flush = (flush_incomplete - royal_flush - straight_flush)\n",
    "flush"
   ]
  },
  {
   "cell_type": "code",
   "execution_count": 15,
   "metadata": {},
   "outputs": [
    {
     "data": {
      "text/plain": [
       "0.0039246467817896395"
      ]
     },
     "execution_count": 15,
     "metadata": {},
     "output_type": "execute_result"
    }
   ],
   "source": [
    "# Straight = Secuencia sucesiva de numeros y monos\n",
    "# Se debe obtener una secvuencia de cartas sucesivas (comb(10,1))\n",
    "# Se debe proporcionar el palo de la primera, segunda, tercera, cuarta y quinta carta (comb(4,1)**5)\n",
    "\n",
    "straight_incomplete = (comb(10,1) * comb(4,1)**5 ) / num_o_hand\n",
    "\n",
    "# posteriormente se le resta la straight flush\n",
    "\n",
    "straight = straight_incomplete - straight_flush\n",
    "straight"
   ]
  },
  {
   "cell_type": "markdown",
   "metadata": {},
   "source": [
    "## Challenge 2: *three of a kind*, *two pair*, *one pair*, and *no pair*\n",
    "\n",
    "In the cell below, calculate the probability of getting each of the following hands:\n",
    "\n",
    "* *three of a kind*\n",
    "* *two pair*\n",
    "* *one pair*\n",
    "* *no pair*\n",
    "\n",
    "You need to figure out the math formulas by yourself. Check if your calculated probabilities are the same as shown in the table. Then assign your results to these variables: `three_of_a_kind`, `two_pair`, `one_pair`, and `no_pair`.\n",
    "\n",
    "*If you are really stuck and frustrated you may scroll down to the section called \"Show your probabilities in table\" where we give you all the math formulas. But try not to look at them unless you've lost half of your hair* 😏"
   ]
  },
  {
   "cell_type": "code",
   "execution_count": null,
   "metadata": {},
   "outputs": [],
   "source": [
    "# your code here\n",
    "three_of_a_kind = -1\n",
    "two_pair = -1\n",
    "one_pair = -1\n",
    "no_pair = -1"
   ]
  },
  {
   "cell_type": "code",
   "execution_count": 13,
   "metadata": {},
   "outputs": [
    {
     "data": {
      "text/plain": [
       "0.02112845138055222"
      ]
     },
     "execution_count": 13,
     "metadata": {},
     "output_type": "execute_result"
    }
   ],
   "source": [
    "three_of_a_kind = (comb(13,1) * comb(4,3) * comb(12,2) * comb(4,1)**2 )/ num_o_hand\n",
    "three_of_a_kind"
   ]
  },
  {
   "cell_type": "code",
   "execution_count": 19,
   "metadata": {},
   "outputs": [
    {
     "data": {
      "text/plain": [
       "0.0475390156062425"
      ]
     },
     "execution_count": 19,
     "metadata": {},
     "output_type": "execute_result"
    }
   ],
   "source": [
    "two_pair = (comb(13,2) * comb(4,2)**2 * comb(11,1) * comb(4,1)) / num_o_hand\n",
    "two_pair"
   ]
  },
  {
   "cell_type": "code",
   "execution_count": 23,
   "metadata": {},
   "outputs": [
    {
     "data": {
      "text/plain": [
       "0.4225690276110444"
      ]
     },
     "execution_count": 23,
     "metadata": {},
     "output_type": "execute_result"
    }
   ],
   "source": [
    "one_pair = (comb(13,1) * comb(4,2) * comb(12,3) * comb(4,1)**3) / num_o_hand\n",
    "one_pair"
   ]
  },
  {
   "cell_type": "code",
   "execution_count": 25,
   "metadata": {},
   "outputs": [
    {
     "data": {
      "text/plain": [
       "0.5011773940345369"
      ]
     },
     "execution_count": 25,
     "metadata": {},
     "output_type": "execute_result"
    }
   ],
   "source": [
    "no_pair = (comb(13,5) - comb(10,1) ) * (comb (4,1)**5 - comb(4,1) )  / num_o_hand\n",
    "no_pair"
   ]
  },
  {
   "cell_type": "markdown",
   "metadata": {},
   "source": [
    "### Show your probabilities in table\n",
    "\n",
    "Execute the following cell to display the probabilities you calculated.\n",
    "\n",
    "The code sample below also shows you:\n",
    "\n",
    "* How to format a float number as percentage.\n",
    "\n",
    "* How to print a HTML table in Jupyter Notebook to display the values in a Python dictionary.\n",
    "\n",
    "It's useful to understand how the code sample works."
   ]
  },
  {
   "cell_type": "code",
   "execution_count": 26,
   "metadata": {},
   "outputs": [
    {
     "data": {
      "text/html": [
       "<table style=\"width:100%;\"><tr><th>Cards</th><th>Hand</th><th>Probability</th><th>Math Expression</th></tr><tr><td><img src=\"royal-flush.jpeg\" style=\"float:right;\" /></td><td>royal flush</td><td>0.000154%</td><td><img src=\"royal-flush.svg\" style=\"float:right;\" /></td></tr><tr><td><img src=\"straight-flush.jpeg\" style=\"float:right;\" /></td><td>straight flush</td><td>0.001385%</td><td><img src=\"straight-flush.svg\" style=\"float:right;\" /></td></tr><tr><td><img src=\"four-of-kind.jpeg\" style=\"float:right;\" /></td><td>four of a kind</td><td>0.024010%</td><td><img src=\"four-of-kind.svg\" style=\"float:right;\" /></td></tr><tr><td><img src=\"full-house.jpeg\" style=\"float:right;\" /></td><td>full house</td><td>0.144058%</td><td><img src=\"full-house.svg\" style=\"float:right;\" /></td></tr><tr><td><img src=\"flush.jpeg\" style=\"float:right;\" /></td><td>flush</td><td>0.196386%</td><td><img src=\"flush.svg\" style=\"float:right;\" /></td></tr><tr><td><img src=\"straight.jpeg\" style=\"float:right;\" /></td><td>straight</td><td>0.392465%</td><td><img src=\"straight.svg\" style=\"float:right;\" /></td></tr><tr><td><img src=\"three-of-kind.jpeg\" style=\"float:right;\" /></td><td>three of a kind</td><td>2.112845%</td><td><img src=\"three-of-kind.svg\" style=\"float:right;\" /></td></tr><tr><td><img src=\"two-pair.jpeg\" style=\"float:right;\" /></td><td>two pair</td><td>4.753902%</td><td><img src=\"two-pair.svg\" style=\"float:right;\" /></td></tr><tr><td><img src=\"one-pair.jpeg\" style=\"float:right;\" /></td><td>one pair</td><td>42.256903%</td><td><img src=\"one-pair.svg\" style=\"float:right;\" /></td></tr><tr><td><img src=\"no-pair.jpeg\" style=\"float:right;\" /></td><td>no pair</td><td>50.117739%</td><td><img src=\"no-pair.svg\" style=\"float:right;\" /></td></tr></table>"
      ],
      "text/plain": [
       "<IPython.core.display.HTML object>"
      ]
     },
     "metadata": {},
     "output_type": "display_data"
    }
   ],
   "source": [
    "from scipy.special import comb\n",
    "from IPython.display import HTML, display\n",
    "\n",
    "probs = {\n",
    "    'royal flush': (4/comb(52, 5), 'royal-flush.jpeg', 'royal-flush.svg'),\n",
    "    'straight flush': ((comb(10,1)*comb(4,1)-comb(4,1))/comb(52, 5), 'straight-flush.jpeg', 'straight-flush.svg'),\n",
    "    'four of a kind': (four_of_a_kind, 'four-of-kind.jpeg', 'four-of-kind.svg'),\n",
    "    'full house': (full_house, 'full-house.jpeg', 'full-house.svg'),\n",
    "    'flush': (flush, 'flush.jpeg', 'flush.svg'),\n",
    "    'straight': (straight, 'straight.jpeg', 'straight.svg'),\n",
    "    'three of a kind': (three_of_a_kind, 'three-of-kind.jpeg', 'three-of-kind.svg'),\n",
    "    'two pair': (two_pair, 'two-pair.jpeg', 'two-pair.svg'),\n",
    "    'one pair': (one_pair, 'one-pair.jpeg', 'one-pair.svg'),\n",
    "    'no pair': (no_pair, 'no-pair.jpeg', 'no-pair.svg'),\n",
    "}\n",
    "\n",
    "def format_prob(prob):\n",
    "    return \"{}%\".format(format(prob*100, '.6f'))\n",
    "\n",
    "def get_image_html(src):\n",
    "    return '<img src=\"{}\" style=\"float:right;\" />'.format(src)\n",
    "\n",
    "display(HTML(\n",
    "   '<table style=\"width:100%;\"><tr><th>Cards</th><th>Hand</th><th>Probability</th><th>Math Expression</th></tr><tr>{}</tr></table>'.format(\n",
    "       '</tr><tr>'.join(\n",
    "           '<td>{}</td>'.format('</td><td>'.join([get_image_html(val[1]), key, format_prob(val[0]), get_image_html(val[2])])) for key, val in probs.items())\n",
    "       )\n",
    "))"
   ]
  },
  {
   "cell_type": "markdown",
   "metadata": {},
   "source": [
    "## Bonus challenge: Using odds in real poker game\n",
    "\n",
    "But understanding how to calculate probabilities and odds does not necessarily make you a poker master. Additional learning is required. As an example, let's explain how to use this skill in [Texas Hold'em](https://www.instructables.com/id/Learn-To-Play-Poker---Texas-Hold-Em-aka-Texas-Ho/) (also see [this video](https://www.youtube.com/watch?v=KKMac6tQKiI)) where you are in the simpliest scenario playing against a single opponent.\n",
    "\n",
    "### Pot odds\n",
    "\n",
    "First, you need to understand what are **pot odds** which represent the odds of risk versus return. Pot odds is **the ratio between the amount of money in the pot versus the amount you need to put down in order to stay in the turn**. For example, if the pot has 10 dollars and your opponent bet 5 dollars, in order to follow you need to to bet 5 dollars. At this time, the pot odds is:\n",
    "\n",
    "```\n",
    "(10 + 5) : 5 = 15 : 5 = 3 : 1\n",
    "```\n",
    "\n",
    "The 3:1 pot odds means for every 1 dollar you bet you can potentially win 3 dollars. If you can win at least once among 3 tries you give, it is worth the risk. So then the question comes to how to calculate your odds to win, which can be achieved by calculating your **outs**."
   ]
  },
  {
   "cell_type": "markdown",
   "metadata": {},
   "source": [
    "### Outs\n",
    "\n",
    "**Outs are the number of cards you need in order to win the hand**. To count the outs you need to take into consideration what cards have been shown on the table (versus those unseen) and what cards you need in order to beat your opponent. For example, consider the following scenario after the turn (i.e. after the dealer lays out the 4th card and before everyone bets for the 3rd round):\n",
    "\n",
    "| Your hand: | ![](hj.png) | ![](h8.png) | . | . | . | . | . | . | . |\n",
    "| --- | --- | --- | --- | --- | --- | --- | --- | --- | --- |\n",
    "| **Dealer lays out:** | ![](h1.png) | ![](hk.png) | ![](c8.png) | ![](s7.png) | . | . | . | . | . |\n",
    "| **Opponent's hand (unknown):** | ![](unknown.png) | ![](unknown.png) | . | . | . | . | . | . | . |\n",
    "| **Cards you need to win (your outs):** | ![](h2.png) | ![](h3.png) | ![](h4.png) | ![](h5.png) |![](h6.png) | ![](h7.png) | ![](h9.png) | ![](h10.png) | ![](hq.png) |\n",
    "\n",
    "To win, you just need the dealer to lay out a heart card as the river card (the 5th & final card) so that you can have a flush. Your flush will beat your opponent for sure. Since there are 9 heart cards that are not shown on the table, you have 9 outs."
   ]
  },
  {
   "cell_type": "markdown",
   "metadata": {},
   "source": [
    "### Use outs to calculate your odds to win\n",
    "\n",
    "Your odds to win is calculated with the following formula:\n",
    "\n",
    "```\n",
    "Odds to Win = Number of Outs : (Number of Unseen Cards - Number of Outs)\n",
    "```\n",
    "\n",
    "In the example above, 6 cards have been shown on the table which means 52-6=46 cards are unseen (including the remaining deck plus the 2 cards in your opponent's hand). And you have 9 outs. Therefore, your odds to win is:\n",
    "\n",
    "```\n",
    "9 : (46 - 9) = 9 : 37\n",
    "```\n",
    "\n",
    "This is approximately 1:4, meaning you're 4 times likely to lose than to win. Your chance to win is thus 20%. Considering the pot odds which is 3:1, it does not worth for you to take the risk to bet. You should fold.\n",
    "\n",
    "Of course in real playing it's 100 times more complex than the scenario we showed you. First, there may be more than one way for you to win. For example, you may eventually have two pairs or a flush, either of which will make you win. In this case you total outs are the sum of the two-pair outs and the flush outs. But make sure you don't double count any of the cards when you count the outs. For instance, you may eventually have a straight flush or a flush, either of which will make you win. In this case you should only count the outs for flush because the outs for straight flush are contained in the outs for flush. \n",
    "\n",
    "Your eventual odds to win is related to on your opponents' odds to win. Unfortunately you can't see what cards your opponents have. The best you can do is to make sure you don't count the outs that will also give your opponents advantage. For example, afer the flop don't expect the dealer to come up with a pair so that you can have a three of a kind or two pairs. Because the dealer's pair will also give your opponent the equal advantage.\n",
    "\n",
    "Statistically speaking, there is only one basic rule: **don't take the risk if the risk won't bring you a higher return of your money**. However, as you get better in playing poker you'll be able to consider human and psychological factors such as your opponents bluffing or you bluffing."
   ]
  },
  {
   "cell_type": "markdown",
   "metadata": {},
   "source": [
    "### The shortcut method\n",
    "\n",
    "If you don't want to burn yourself out by calculating and comparing the pot odds and your odds to win, a shortcut method is **The Rule of 4 and 2**:\n",
    "\n",
    "* **After the flop (after dealer lays the first 3 cards on table), your chance to win is approximately 4 times the number of outs.**\n",
    "\n",
    "* **After the turn (after dealer lays the 4th card on table), your chance to win is approximately 2 times the number of outs.**\n",
    "\n",
    "This rule simplifies your decision making process whether to stay in the hand. In the example we gave you earlier, you have 9 outs after the turn. So your chance to win is `9 x 2 = 18%`. This is identical to the probability we calculated.\n",
    "\n",
    "*Disclaimer: We provide this lesson only for educational purposes. We do not think gambling is good for anyone. Do not gamble.*"
   ]
  },
  {
   "cell_type": "markdown",
   "metadata": {},
   "source": [
    "### Practice\n",
    "\n",
    "In the following scenarios, practice calculating your outs and odds to win. Assume the pot odds are 4:1. Should you fold or follow?\n",
    "\n",
    "![](scenario-1.png)\n",
    "\n",
    "![](scenario-2.png)\n",
    "\n",
    "![](scenario-3.png)"
   ]
  },
  {
   "cell_type": "code",
   "execution_count": null,
   "metadata": {},
   "outputs": [],
   "source": [
    "# your answer here"
   ]
  }
 ],
 "metadata": {
  "kernelspec": {
   "display_name": "Python 3",
   "language": "python",
   "name": "python3"
  },
  "language_info": {
   "codemirror_mode": {
    "name": "ipython",
    "version": 3
   },
   "file_extension": ".py",
   "mimetype": "text/x-python",
   "name": "python",
   "nbconvert_exporter": "python",
   "pygments_lexer": "ipython3",
   "version": "3.8.8"
  }
 },
 "nbformat": 4,
 "nbformat_minor": 4
}
