{
 "cells": [
  {
   "cell_type": "markdown",
   "metadata": {},
   "source": [
    "# Calculating Odds\n",
    "\n",
    "\n",
    "Introduction\n",
    "\n",
    "The field of probability was developed specifically for games of chance. Therefore, it is only natural that we use games of chance in this lesson. To decide whether a bet is worthwhile for us, it is beneficial to calculate the odds for a particular outcome.\n",
    "Odds\n",
    "\n",
    "We recall looking at the probability of an event. The probability of an event is the ratio between the number of times an event occurred and the size of the sample space. However, the odds of an event are the ratio between the probability that an event will occur and the probability that an event will not occur.\n",
    "\n",
    "For example, using a fair die, we can define event A as the case where we get a number less than 3 number in one roll.\n",
    "\n",
    "A = {1, 2}\n",
    "\n",
    "Therefore, P(A) = 2/6 = 1/3\n",
    "\n",
    "The odds in this case are 1/2. We may also say that the odds are 2:1. It means that for every 3 die rolls 1 will result in event A occurring and 2 will not.\n",
    "\n",
    "Let's define a Python function that computes the odds and verify this result."
   ]
  },
  {
   "cell_type": "code",
   "execution_count": 1,
   "metadata": {},
   "outputs": [
    {
     "data": {
      "text/plain": [
       "0.49999999999999994"
      ]
     },
     "execution_count": 1,
     "metadata": {},
     "output_type": "execute_result"
    }
   ],
   "source": [
    "def odds(prob):\n",
    "    return(prob/(1-prob))\n",
    "\n",
    "odds(1/3)"
   ]
  },
  {
   "cell_type": "markdown",
   "metadata": {},
   "source": [
    "# Playing Poker with Python\n",
    "\n",
    "We will use the game of poker to learn more about computing odds. The key in playing poker is to know the probabilities or odds of different hands to make an optimal decision.\n",
    "Combinations and Permutations: A Primer\n",
    "\n",
    "In order to talk about poker hands, we must first introduce combinations and permutations. The most efficient way to count the number of possible ways to get a hand is by using combinations and permutations.\n",
    "Combinations\n",
    "\n",
    "A combination is a selection of a subset of objects from a larger set. In a combination, the order in which objects were selected does not matter. A combination of k elements from a set of n elements is known as \"n choose k\".\n",
    "The Scipy library contains a function for computing combinations called comb. For example, here we will compute 52 choose 5."
   ]
  },
  {
   "cell_type": "code",
   "execution_count": 2,
   "metadata": {},
   "outputs": [
    {
     "data": {
      "text/plain": [
       "2598960.0"
      ]
     },
     "execution_count": 2,
     "metadata": {},
     "output_type": "execute_result"
    }
   ],
   "source": [
    "from scipy.special import comb\n",
    "comb(52, 5)"
   ]
  },
  {
   "cell_type": "markdown",
   "metadata": {},
   "source": [
    "Permutations\n",
    "\n",
    "Permutations differ from combinations in that the order in which objects are selected matters. "
   ]
  },
  {
   "cell_type": "markdown",
   "metadata": {},
   "source": [
    "# Calculating the Odds of Different Poker Hands\n",
    "\n",
    "Royal Flush\n",
    "\n",
    "The top hand in poker is a royal flush. A royal flush contains A, K, Q, J, and 10 all from the same suit.\n",
    "\n",
    "A deck of cards contains 52 cards. In a deck of cards, we have 4 suits where each suit contains 13 cards. Therefore, to have a royal flush, we must select a suit, so there is a 1 of 4 chance that we select a specific suit. Then each suit has only one of the cards in the hand. Therefore, there are a total of 4 possible royal flushes in the deck.\n",
    "\n",
    "The probability of a royal flush is 4 divided by the number of all possible hands. We find the number of all possible hands which is 52 choose 5. "
   ]
  },
  {
   "cell_type": "markdown",
   "metadata": {},
   "source": [
    "Using Python we can compute the probability and the odds. We will use the odds function that we have previously defined in this lesson."
   ]
  },
  {
   "cell_type": "code",
   "execution_count": 3,
   "metadata": {},
   "outputs": [
    {
     "data": {
      "text/plain": [
       "1.5390771693292702e-06"
      ]
     },
     "execution_count": 3,
     "metadata": {},
     "output_type": "execute_result"
    }
   ],
   "source": [
    "royal_flush_prob = 4/comb(52, 5)\n",
    "royal_flush_prob"
   ]
  },
  {
   "cell_type": "code",
   "execution_count": 4,
   "metadata": {},
   "outputs": [
    {
     "data": {
      "text/plain": [
       "1.5390795380914492e-06"
      ]
     },
     "execution_count": 4,
     "metadata": {},
     "output_type": "execute_result"
    }
   ],
   "source": [
    "royal_flush_odds = odds(royal_flush_prob)\n",
    "royal_flush_odds"
   ]
  },
  {
   "cell_type": "markdown",
   "metadata": {},
   "source": [
    "The odds are 649,739:1. Which means that for every 649,740 hands played, one will be a royal flush and the rest will not.\n",
    "\n",
    "\n",
    "# Straight Flush\n",
    "\n",
    "A straight flush is every sequence of 5 consecutive cards from the same suit that is not a royal flush. There are 10 such sequences in total so we must compute the number of sequences and then subtract the number of royal flushes from that number.\n",
    "\n",
    "In order to calculate the probability, we first choose a suit and then choose the sequence. There are 4 suits and 10 sequences, and we pick one of each. "
   ]
  },
  {
   "cell_type": "code",
   "execution_count": 5,
   "metadata": {},
   "outputs": [
    {
     "data": {
      "text/plain": [
       "1.3851694523963431e-05"
      ]
     },
     "execution_count": 5,
     "metadata": {},
     "output_type": "execute_result"
    }
   ],
   "source": [
    "straight_flush_prob = (comb(10,1)*comb(4,1)-comb(4,1))/comb(52,5)\n",
    "straight_flush_prob"
   ]
  },
  {
   "cell_type": "code",
   "execution_count": 6,
   "metadata": {},
   "outputs": [
    {
     "data": {
      "text/plain": [
       "1.385188639606237e-05"
      ]
     },
     "execution_count": 6,
     "metadata": {},
     "output_type": "execute_result"
    }
   ],
   "source": [
    "straight_flush_odds = odds(straight_flush_prob)\n",
    "straight_flush_odds"
   ]
  },
  {
   "cell_type": "markdown",
   "metadata": {},
   "source": [
    "The odds of a straight flush are 72,192:1."
   ]
  },
  {
   "cell_type": "code",
   "execution_count": null,
   "metadata": {},
   "outputs": [],
   "source": []
  }
 ],
 "metadata": {
  "kernelspec": {
   "display_name": "Python 3",
   "language": "python",
   "name": "python3"
  },
  "language_info": {
   "codemirror_mode": {
    "name": "ipython",
    "version": 3
   },
   "file_extension": ".py",
   "mimetype": "text/x-python",
   "name": "python",
   "nbconvert_exporter": "python",
   "pygments_lexer": "ipython3",
   "version": "3.7.2"
  }
 },
 "nbformat": 4,
 "nbformat_minor": 2
}
